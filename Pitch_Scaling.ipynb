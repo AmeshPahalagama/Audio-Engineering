{
  "nbformat": 4,
  "nbformat_minor": 0,
  "metadata": {
    "colab": {
      "provenance": []
    },
    "kernelspec": {
      "name": "python3",
      "display_name": "Python 3"
    },
    "language_info": {
      "name": "python"
    }
  },
  "cells": [
    {
      "cell_type": "code",
      "source": [
        "from google.colab import files\n",
        "\n",
        "song = files.upload()"
      ],
      "metadata": {
        "colab": {
          "base_uri": "https://localhost:8080/",
          "height": 93
        },
        "id": "bj11_Gu4Hc0M",
        "outputId": "2a53271d-6945-4441-afbe-eb420f3a00ff"
      },
      "execution_count": 14,
      "outputs": [
        {
          "output_type": "display_data",
          "data": {
            "text/plain": [
              "<IPython.core.display.HTML object>"
            ],
            "text/html": [
              "\n",
              "     <input type=\"file\" id=\"files-4dbb1468-3521-4e90-8d2a-7fa2c1a1bc52\" name=\"files[]\" multiple disabled\n",
              "        style=\"border:none\" />\n",
              "     <output id=\"result-4dbb1468-3521-4e90-8d2a-7fa2c1a1bc52\">\n",
              "      Upload widget is only available when the cell has been executed in the\n",
              "      current browser session. Please rerun this cell to enable.\n",
              "      </output>\n",
              "      <script>// Copyright 2017 Google LLC\n",
              "//\n",
              "// Licensed under the Apache License, Version 2.0 (the \"License\");\n",
              "// you may not use this file except in compliance with the License.\n",
              "// You may obtain a copy of the License at\n",
              "//\n",
              "//      http://www.apache.org/licenses/LICENSE-2.0\n",
              "//\n",
              "// Unless required by applicable law or agreed to in writing, software\n",
              "// distributed under the License is distributed on an \"AS IS\" BASIS,\n",
              "// WITHOUT WARRANTIES OR CONDITIONS OF ANY KIND, either express or implied.\n",
              "// See the License for the specific language governing permissions and\n",
              "// limitations under the License.\n",
              "\n",
              "/**\n",
              " * @fileoverview Helpers for google.colab Python module.\n",
              " */\n",
              "(function(scope) {\n",
              "function span(text, styleAttributes = {}) {\n",
              "  const element = document.createElement('span');\n",
              "  element.textContent = text;\n",
              "  for (const key of Object.keys(styleAttributes)) {\n",
              "    element.style[key] = styleAttributes[key];\n",
              "  }\n",
              "  return element;\n",
              "}\n",
              "\n",
              "// Max number of bytes which will be uploaded at a time.\n",
              "const MAX_PAYLOAD_SIZE = 100 * 1024;\n",
              "\n",
              "function _uploadFiles(inputId, outputId) {\n",
              "  const steps = uploadFilesStep(inputId, outputId);\n",
              "  const outputElement = document.getElementById(outputId);\n",
              "  // Cache steps on the outputElement to make it available for the next call\n",
              "  // to uploadFilesContinue from Python.\n",
              "  outputElement.steps = steps;\n",
              "\n",
              "  return _uploadFilesContinue(outputId);\n",
              "}\n",
              "\n",
              "// This is roughly an async generator (not supported in the browser yet),\n",
              "// where there are multiple asynchronous steps and the Python side is going\n",
              "// to poll for completion of each step.\n",
              "// This uses a Promise to block the python side on completion of each step,\n",
              "// then passes the result of the previous step as the input to the next step.\n",
              "function _uploadFilesContinue(outputId) {\n",
              "  const outputElement = document.getElementById(outputId);\n",
              "  const steps = outputElement.steps;\n",
              "\n",
              "  const next = steps.next(outputElement.lastPromiseValue);\n",
              "  return Promise.resolve(next.value.promise).then((value) => {\n",
              "    // Cache the last promise value to make it available to the next\n",
              "    // step of the generator.\n",
              "    outputElement.lastPromiseValue = value;\n",
              "    return next.value.response;\n",
              "  });\n",
              "}\n",
              "\n",
              "/**\n",
              " * Generator function which is called between each async step of the upload\n",
              " * process.\n",
              " * @param {string} inputId Element ID of the input file picker element.\n",
              " * @param {string} outputId Element ID of the output display.\n",
              " * @return {!Iterable<!Object>} Iterable of next steps.\n",
              " */\n",
              "function* uploadFilesStep(inputId, outputId) {\n",
              "  const inputElement = document.getElementById(inputId);\n",
              "  inputElement.disabled = false;\n",
              "\n",
              "  const outputElement = document.getElementById(outputId);\n",
              "  outputElement.innerHTML = '';\n",
              "\n",
              "  const pickedPromise = new Promise((resolve) => {\n",
              "    inputElement.addEventListener('change', (e) => {\n",
              "      resolve(e.target.files);\n",
              "    });\n",
              "  });\n",
              "\n",
              "  const cancel = document.createElement('button');\n",
              "  inputElement.parentElement.appendChild(cancel);\n",
              "  cancel.textContent = 'Cancel upload';\n",
              "  const cancelPromise = new Promise((resolve) => {\n",
              "    cancel.onclick = () => {\n",
              "      resolve(null);\n",
              "    };\n",
              "  });\n",
              "\n",
              "  // Wait for the user to pick the files.\n",
              "  const files = yield {\n",
              "    promise: Promise.race([pickedPromise, cancelPromise]),\n",
              "    response: {\n",
              "      action: 'starting',\n",
              "    }\n",
              "  };\n",
              "\n",
              "  cancel.remove();\n",
              "\n",
              "  // Disable the input element since further picks are not allowed.\n",
              "  inputElement.disabled = true;\n",
              "\n",
              "  if (!files) {\n",
              "    return {\n",
              "      response: {\n",
              "        action: 'complete',\n",
              "      }\n",
              "    };\n",
              "  }\n",
              "\n",
              "  for (const file of files) {\n",
              "    const li = document.createElement('li');\n",
              "    li.append(span(file.name, {fontWeight: 'bold'}));\n",
              "    li.append(span(\n",
              "        `(${file.type || 'n/a'}) - ${file.size} bytes, ` +\n",
              "        `last modified: ${\n",
              "            file.lastModifiedDate ? file.lastModifiedDate.toLocaleDateString() :\n",
              "                                    'n/a'} - `));\n",
              "    const percent = span('0% done');\n",
              "    li.appendChild(percent);\n",
              "\n",
              "    outputElement.appendChild(li);\n",
              "\n",
              "    const fileDataPromise = new Promise((resolve) => {\n",
              "      const reader = new FileReader();\n",
              "      reader.onload = (e) => {\n",
              "        resolve(e.target.result);\n",
              "      };\n",
              "      reader.readAsArrayBuffer(file);\n",
              "    });\n",
              "    // Wait for the data to be ready.\n",
              "    let fileData = yield {\n",
              "      promise: fileDataPromise,\n",
              "      response: {\n",
              "        action: 'continue',\n",
              "      }\n",
              "    };\n",
              "\n",
              "    // Use a chunked sending to avoid message size limits. See b/62115660.\n",
              "    let position = 0;\n",
              "    do {\n",
              "      const length = Math.min(fileData.byteLength - position, MAX_PAYLOAD_SIZE);\n",
              "      const chunk = new Uint8Array(fileData, position, length);\n",
              "      position += length;\n",
              "\n",
              "      const base64 = btoa(String.fromCharCode.apply(null, chunk));\n",
              "      yield {\n",
              "        response: {\n",
              "          action: 'append',\n",
              "          file: file.name,\n",
              "          data: base64,\n",
              "        },\n",
              "      };\n",
              "\n",
              "      let percentDone = fileData.byteLength === 0 ?\n",
              "          100 :\n",
              "          Math.round((position / fileData.byteLength) * 100);\n",
              "      percent.textContent = `${percentDone}% done`;\n",
              "\n",
              "    } while (position < fileData.byteLength);\n",
              "  }\n",
              "\n",
              "  // All done.\n",
              "  yield {\n",
              "    response: {\n",
              "      action: 'complete',\n",
              "    }\n",
              "  };\n",
              "}\n",
              "\n",
              "scope.google = scope.google || {};\n",
              "scope.google.colab = scope.google.colab || {};\n",
              "scope.google.colab._files = {\n",
              "  _uploadFiles,\n",
              "  _uploadFilesContinue,\n",
              "};\n",
              "})(self);\n",
              "</script> "
            ]
          },
          "metadata": {}
        },
        {
          "output_type": "stream",
          "name": "stdout",
          "text": [
            "Saving Sililara_Sitha_Nayana_-_Soorya_Nagare_Athula_Adikari_Sarigama_lk.mp3 to Sililara_Sitha_Nayana_-_Soorya_Nagare_Athula_Adikari_Sarigama_lk (1).mp3\n"
          ]
        }
      ]
    },
    {
      "cell_type": "code",
      "source": [
        "import librosa\n",
        "import soundfile as sf\n",
        "\n",
        "# Load the audio file\n",
        "song_path = \"/content/Sililara_Sitha_Nayana_-_Soorya_Nagare_Athula_Adikari_Sarigama_lk.mp3\"\n",
        "y, sr = librosa.load(song_path, sr=None)\n",
        "\n",
        "# Apply pitch shift (n_steps is the number of semitones to shift the pitch)\n",
        "n_steps = 4  # Shift pitch up by 4 semitones\n",
        "y_shifted = librosa.effects.pitch_shift(y=y, sr=sr, n_steps=n_steps)\n",
        "\n",
        "# Save the output\n",
        "sf.write('pitch_shifted_output.wav', y_shifted, sr)\n"
      ],
      "metadata": {
        "id": "rd1t3F-BwzgR"
      },
      "execution_count": 16,
      "outputs": []
    },
    {
      "cell_type": "code",
      "source": [
        "import librosa\n",
        "import soundfile as sf\n",
        "\n",
        "# Load the audio file\n",
        "y, sr = librosa.load(song_path, sr=None)\n",
        "\n",
        "# Apply time-stretching (rate < 1 for slowing down, rate > 1 for speeding up)\n",
        "rate = 0.75  # Stretch to 75% of the original speed\n",
        "y_stretched = librosa.effects.time_stretch(y=y, rate=rate)\n",
        "\n",
        "# Save the output\n",
        "sf.write('time_stretched_output.wav', y_stretched, sr)\n"
      ],
      "metadata": {
        "id": "KwI8zoKWw92Y"
      },
      "execution_count": 19,
      "outputs": []
    },
    {
      "cell_type": "code",
      "source": [
        "!pip install pydub"
      ],
      "metadata": {
        "colab": {
          "base_uri": "https://localhost:8080/"
        },
        "id": "F3DUqiEgzOvF",
        "outputId": "cb8f6e37-4bfc-4aad-d8db-f063cf8655de"
      },
      "execution_count": 21,
      "outputs": [
        {
          "output_type": "stream",
          "name": "stdout",
          "text": [
            "Collecting pydub\n",
            "  Downloading pydub-0.25.1-py2.py3-none-any.whl.metadata (1.4 kB)\n",
            "Downloading pydub-0.25.1-py2.py3-none-any.whl (32 kB)\n",
            "Installing collected packages: pydub\n",
            "Successfully installed pydub-0.25.1\n"
          ]
        }
      ]
    },
    {
      "cell_type": "code",
      "source": [
        "from pydub import AudioSegment\n",
        "\n",
        "# Load the .wav file\n",
        "wav_audio = AudioSegment.from_wav(\"/content/time_stretched_output.wav\")\n",
        "\n",
        "# Export the file as .mp3\n",
        "wav_audio.export(\"time_stretched_audio.mp3\", format=\"mp3\")\n",
        "\n",
        "print(\"Conversion complete!\")\n"
      ],
      "metadata": {
        "colab": {
          "base_uri": "https://localhost:8080/"
        },
        "id": "euTmqG04zEi7",
        "outputId": "b9ad0f92-2103-4d63-ff66-f1202309eaa0"
      },
      "execution_count": 22,
      "outputs": [
        {
          "output_type": "stream",
          "name": "stdout",
          "text": [
            "Conversion complete!\n"
          ]
        }
      ]
    },
    {
      "cell_type": "code",
      "source": [
        "import numpy as np\n",
        "import librosa\n",
        "import soundfile as sf\n",
        "\n",
        "# Load the audio file\n",
        "y, sr = librosa.load(song_path, sr=None)\n",
        "\n",
        "# PSOLA implementation: divide signal into pitch-synchronous segments\n",
        "# Modify pitch by resampling the frames\n",
        "def psola_pitch_shift(y, sr, semitone_shift):\n",
        "    hop_length = 256  # Hop length for analysis frames\n",
        "    t = np.arange(len(y)) / sr\n",
        "    y_shifted = np.zeros_like(y)\n",
        "\n",
        "    for i in range(0, len(y) - hop_length, hop_length):\n",
        "        frame = y[i:i+hop_length]\n",
        "        # Correctly pass the arguments as keyword arguments\n",
        "        frame_resampled = librosa.effects.pitch_shift(y=frame, sr=sr, n_steps=semitone_shift)\n",
        "        y_shifted[i:i+hop_length] = frame_resampled\n",
        "\n",
        "    return y_shifted\n",
        "\n",
        "# Shift pitch up by 2 semitones using PSOLA\n",
        "y_shifted = psola_pitch_shift(y, sr, semitone_shift=2)\n",
        "\n",
        "# Save the output\n",
        "sf.write('psola_pitch_shifted_output.wav', y_shifted, sr)\n",
        "\n"
      ],
      "metadata": {
        "colab": {
          "base_uri": "https://localhost:8080/"
        },
        "id": "zpvcdUBA0PlV",
        "outputId": "8403ebc8-ca2d-4386-bf31-30b13bfe7b44"
      },
      "execution_count": 26,
      "outputs": [
        {
          "output_type": "stream",
          "name": "stderr",
          "text": [
            "/usr/local/lib/python3.10/dist-packages/librosa/core/spectrum.py:266: UserWarning: n_fft=2048 is too large for input signal of length=256\n",
            "  warnings.warn(\n"
          ]
        }
      ]
    },
    {
      "cell_type": "code",
      "source": [
        "# Load the .wav file\n",
        "wav_audio = AudioSegment.from_wav('/content/psola_pitch_shifted_output.wav')\n",
        "\n",
        "# Export the file as .mp3\n",
        "wav_audio.export(\"psola_pitch_shifted_output.mp3\", format=\"mp3\")\n",
        "\n",
        "print(\"Conversion complete!\")"
      ],
      "metadata": {
        "colab": {
          "base_uri": "https://localhost:8080/"
        },
        "id": "DyTuvqks0z7w",
        "outputId": "613e5bba-ac39-4e1b-9af4-44bfb977e719"
      },
      "execution_count": 28,
      "outputs": [
        {
          "output_type": "stream",
          "name": "stdout",
          "text": [
            "Conversion complete!\n"
          ]
        }
      ]
    },
    {
      "cell_type": "code",
      "source": [
        "import numpy as np\n",
        "import librosa\n",
        "import soundfile as sf\n",
        "\n",
        "# Load the audio file\n",
        "y, sr = librosa.load(song_path, sr=None)\n",
        "\n",
        "# Granular time-stretching function\n",
        "def granular_time_stretch(y, sr, stretch_factor):\n",
        "    grain_size = 2048  # Grain size for granular synthesis\n",
        "    grain_step = int(grain_size / 2)  # Overlapping the grains by 50%\n",
        "\n",
        "    # Create an empty list to store the stretched grains\n",
        "    stretched_signal = []\n",
        "\n",
        "    # Process each grain\n",
        "    for i in range(0, len(y) - grain_size, grain_step):\n",
        "        grain = y[i:i + grain_size]\n",
        "        # Correct the time_stretch function call with keyword arguments\n",
        "        grain_stretched = librosa.effects.time_stretch(y=grain, rate=stretch_factor)\n",
        "        stretched_signal.append(grain_stretched)\n",
        "\n",
        "    # Concatenate all grains to form the final stretched signal\n",
        "    return np.concatenate(stretched_signal)\n",
        "\n",
        "# Stretch the audio to 150% of the original length\n",
        "stretch_factor = 1.5\n",
        "y_stretched = granular_time_stretch(y, sr, stretch_factor)\n",
        "\n",
        "# Save the output\n",
        "sf.write('granular_time_stretched_output.wav', y_stretched, sr)\n",
        "\n"
      ],
      "metadata": {
        "id": "Y7h7Gibu3LUN"
      },
      "execution_count": 31,
      "outputs": []
    },
    {
      "cell_type": "code",
      "source": [
        "wav_audio = AudioSegment.from_wav('/content/granular_time_stretched_output.wav')\n",
        "\n",
        "# Export the file as .mp3\n",
        "wav_audio.export(\"granular_time_stretched_output.mp3\", format=\"mp3\")\n",
        "\n",
        "print(\"Conversion complete!\")"
      ],
      "metadata": {
        "colab": {
          "base_uri": "https://localhost:8080/"
        },
        "id": "kyz17KIv32hS",
        "outputId": "71542030-14f1-41b2-c935-1c5b502e4033"
      },
      "execution_count": 32,
      "outputs": [
        {
          "output_type": "stream",
          "name": "stdout",
          "text": [
            "Conversion complete!\n"
          ]
        }
      ]
    }
  ]
}